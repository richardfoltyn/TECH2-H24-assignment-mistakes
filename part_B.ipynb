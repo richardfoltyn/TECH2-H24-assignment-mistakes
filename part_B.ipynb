{
 "cells": [
  {
   "cell_type": "markdown",
   "metadata": {},
   "source": [
    "# TECH 2 mandatory assignment - Part B"
   ]
  },
  {
   "cell_type": "markdown",
   "metadata": {},
   "source": [
    "## Function to read in data"
   ]
  },
  {
   "cell_type": "code",
   "execution_count": 1,
   "metadata": {},
   "outputs": [],
   "source": [
    "def read_data(path):\n",
    "    \"\"\"\n",
    "    Read in data file from given path.\n",
    "\n",
    "    Parameters\n",
    "    ----------\n",
    "    path : str\n",
    "        Path or file name of data file to read\n",
    "\n",
    "    Returns\n",
    "    -------\n",
    "    x1 : list\n",
    "        Non-missing values in column 1\n",
    "    x2 : list`1\n",
    "        Non-missing values in column 2\n",
    "    x3 : list\n",
    "        Non-missing values in column 3\n",
    "    \"\"\"\n",
    "\n",
    "    file = open('data.csv', 'rt')\n",
    "\n",
    "    # Initialize lists to store numbers\n",
    "    x1 = []\n",
    "    x2 = []\n",
    "    x3 = []\n",
    "\n",
    "    # Loop over all lines in file\n",
    "    for line in file:\n",
    "\n",
    "        # Convert line to list\n",
    "        line_lst = line.split(',') \n",
    "\n",
    "        # Append numbers to lists if not missing\n",
    "        if line_lst[0] != '': x1.append(float(line_lst[0]))\n",
    "        if line_lst[1] != '': x2.append(float(line_lst[1]))\n",
    "        if line_lst[2] != '': x3.append(float(line_lst[2]))\n",
    "\n",
    "    file.close()\n",
    "\n",
    "    return x1, x2, x3"
   ]
  },
  {
   "cell_type": "markdown",
   "metadata": {},
   "source": [
    "## Read in data"
   ]
  },
  {
   "cell_type": "code",
   "execution_count": 2,
   "metadata": {},
   "outputs": [],
   "source": [
    "x1, x2, x3 = read_data('data.csv')\n",
    "\n",
    "# MISTAKE: Don't print long output in notebooks, this will blow up your file size and is hard to read!\n",
    "# print(x1)\n",
    "# print(x2)\n",
    "# print(x3)"
   ]
  },
  {
   "cell_type": "markdown",
   "metadata": {},
   "source": [
    "## Compute standard deviation for each column"
   ]
  },
  {
   "cell_type": "code",
   "execution_count": 13,
   "metadata": {},
   "outputs": [
    {
     "name": "stdout",
     "output_type": "stream",
     "text": [
      "\n",
      "=== Standard deviation for column 0 ===\n",
      "Loops:     0.28237211\n",
      "Built-ins: 0.28237211\n",
      "NumPy:     0.28237211\n",
      "\n",
      "=== Standard deviation for column 1 ===\n",
      "Loops:     0.28467443\n",
      "Built-ins: 0.28467443\n",
      "NumPy:     0.28467443\n",
      "\n",
      "=== Standard deviation for column 2 ===\n",
      "Loops:     0.28540453\n",
      "Built-ins: 0.28540453\n",
      "NumPy:     0.28540453\n"
     ]
    }
   ],
   "source": [
    "from part_A import std_builtin, std_loops\n",
    "import numpy as np\n",
    "\n",
    "for i, x in enumerate([x1, x2, x3]):\n",
    "    print(f'\\n=== Standard deviation for column {i} ===')\n",
    "    # Print results here instead of in std*()\n",
    "    print(f'Loops:     {std_loops(x):.8f}')\n",
    "    print(f'Built-ins: {std_builtin(x):.8f}')\n",
    "    print(f'NumPy:     {np.std(x):.8f}')"
   ]
  },
  {
   "cell_type": "markdown",
   "metadata": {},
   "source": [
    "## Compute run time"
   ]
  },
  {
   "cell_type": "markdown",
   "metadata": {},
   "source": [
    "### 100 Numbers"
   ]
  },
  {
   "cell_type": "code",
   "execution_count": 4,
   "metadata": {},
   "outputs": [
    {
     "name": "stdout",
     "output_type": "stream",
     "text": [
      "5.53 μs ± 194 ns per loop (mean ± std. dev. of 7 runs, 100,000 loops each)\n"
     ]
    }
   ],
   "source": [
    "%timeit std_loops(x1)"
   ]
  },
  {
   "cell_type": "code",
   "execution_count": 5,
   "metadata": {},
   "outputs": [
    {
     "name": "stdout",
     "output_type": "stream",
     "text": [
      "5.36 μs ± 48.8 ns per loop (mean ± std. dev. of 7 runs, 100,000 loops each)\n"
     ]
    }
   ],
   "source": [
    "%timeit std_builtin(x1)"
   ]
  },
  {
   "cell_type": "code",
   "execution_count": 6,
   "metadata": {},
   "outputs": [
    {
     "name": "stdout",
     "output_type": "stream",
     "text": [
      "10.6 μs ± 355 ns per loop (mean ± std. dev. of 7 runs, 100,000 loops each)\n"
     ]
    }
   ],
   "source": [
    "%timeit np.std(x1)"
   ]
  },
  {
   "cell_type": "markdown",
   "metadata": {},
   "source": [
    "1,000 Numbers"
   ]
  },
  {
   "cell_type": "code",
   "execution_count": 7,
   "metadata": {},
   "outputs": [
    {
     "name": "stdout",
     "output_type": "stream",
     "text": [
      "66.6 μs ± 1.16 μs per loop (mean ± std. dev. of 7 runs, 10,000 loops each)\n"
     ]
    }
   ],
   "source": [
    "%timeit std_loops(x2)"
   ]
  },
  {
   "cell_type": "code",
   "execution_count": 8,
   "metadata": {},
   "outputs": [
    {
     "name": "stdout",
     "output_type": "stream",
     "text": [
      "50.8 μs ± 253 ns per loop (mean ± std. dev. of 7 runs, 10,000 loops each)\n"
     ]
    }
   ],
   "source": [
    "%timeit std_builtin(x2)"
   ]
  },
  {
   "cell_type": "code",
   "execution_count": 9,
   "metadata": {},
   "outputs": [
    {
     "name": "stdout",
     "output_type": "stream",
     "text": [
      "38.9 μs ± 769 ns per loop (mean ± std. dev. of 7 runs, 10,000 loops each)\n"
     ]
    }
   ],
   "source": [
    "%timeit np.std(x2)"
   ]
  },
  {
   "cell_type": "markdown",
   "metadata": {},
   "source": [
    "#### 10,000 numbers"
   ]
  },
  {
   "cell_type": "code",
   "execution_count": 10,
   "metadata": {},
   "outputs": [
    {
     "name": "stdout",
     "output_type": "stream",
     "text": [
      "685 μs ± 10.7 μs per loop (mean ± std. dev. of 7 runs, 1,000 loops each)\n"
     ]
    }
   ],
   "source": [
    "%timeit std_loops(x3)"
   ]
  },
  {
   "cell_type": "code",
   "execution_count": 11,
   "metadata": {},
   "outputs": [
    {
     "name": "stdout",
     "output_type": "stream",
     "text": [
      "511 μs ± 9.63 μs per loop (mean ± std. dev. of 7 runs, 1,000 loops each)\n"
     ]
    }
   ],
   "source": [
    "%timeit std_builtin(x3)"
   ]
  },
  {
   "cell_type": "code",
   "execution_count": 12,
   "metadata": {},
   "outputs": [
    {
     "name": "stdout",
     "output_type": "stream",
     "text": [
      "294 μs ± 2.39 μs per loop (mean ± std. dev. of 7 runs, 1,000 loops each)\n"
     ]
    }
   ],
   "source": [
    "%timeit np.std(x3)"
   ]
  }
 ],
 "metadata": {
  "kernelspec": {
   "display_name": "TECH2",
   "language": "python",
   "name": "python3"
  },
  "language_info": {
   "codemirror_mode": {
    "name": "ipython",
    "version": 3
   },
   "file_extension": ".py",
   "mimetype": "text/x-python",
   "name": "python",
   "nbconvert_exporter": "python",
   "pygments_lexer": "ipython3",
   "version": "3.12.7"
  }
 },
 "nbformat": 4,
 "nbformat_minor": 4
}
