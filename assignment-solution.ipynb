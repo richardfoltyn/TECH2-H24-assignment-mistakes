{
 "cells": [
  {
   "cell_type": "markdown",
   "metadata": {},
   "source": [
    "# Standard deviation of a sequence of numbers\n",
    "\n",
    "You are having a discussion with your boss and a colleague regarding the fastest method to calculate the standard deviation of a sequence of numbers.\n",
    "\n",
    "The standard deviation $\\sigma$ characterizes the dispersion of a sequence of data $(x_1, x_2, \\dots, x_N)$ around its mean $\\overline{x}$. A high $\\sigma$ indicates that many of the values in the sequence are far away from the mean, whereas a low value indicates that most values are close to the mean.\n",
    "\n",
    "The standard deviation is computed as the square root of the variance $\\sigma^2$, defined as \n",
    "$$\n",
    "\\begin{aligned}\n",
    "\\sigma^2 = \\frac{1}{N} \\sum_{i=1}^N \\Bigl(x_i - \\overline{x}\\Bigr)^2\n",
    "\\end{aligned}\n",
    "$$\n",
    "where $N$ is the number of elements, and the mean $\\overline{x}$ is defined as\n",
    "$$\n",
    "\\overline{x} = \\frac{1}{N}\\sum_{i=1}^N x_i\n",
    "$$\n",
    "The above formula for the variance can be rewritten as \n",
    "$$\n",
    "\\sigma^2 = \\left(\\frac{1}{N}\\sum_{i=1}^N x_i^2 \\right)\n",
    "     - \\overline{x}^2\n",
    "$$\n",
    "This suggests the following algorithm to compute the standard deviation:\n",
    "\n",
    "1. Compute the mean $\\overline{x} = \\frac{1}{N}\\sum_{i=1}^N x_i$\n",
    "2. Compute the mean of squares $S = \\frac{1}{N}\\sum_{i=1}^N x_i^2$\n",
    "3. Compute the variance $\\sigma^2 = S - \\overline{x}^2$\n",
    "4. Compute the standard deviation $\\sigma = \\sqrt{\\sigma^2}$"
   ]
  },
  {
   "cell_type": "markdown",
   "metadata": {},
   "source": [
    "There are several ways to compute the standard deviation of a sequence of values in Python:\n",
    "\n",
    "1. Your colleague thinks that the fastest solution is to compute the mean and sum of the squares in the algorithm above by using solely `for` loops, and that no functions are required.\n",
    "2. Your boss believes that `for` loops are slow and should therefore be avoided. He instead suggests using Python’s built-in functions such as `sum()` and `len()` to reduce the number of loops.\n",
    "3. You, however, know that NumPy has a function called `std()` that can be used to calculate the standard deviation of a sequence of numbers. You believe that it is generally better to use pre-existing Python functions instead of generating your own functions.\n",
    "\n",
    "Your task is to compute the standard deviation of a sequence of numbers using all three approaches. "
   ]
  },
  {
   "cell_type": "markdown",
   "metadata": {},
   "source": [
    "# Part A\n",
    "\n",
    "Write a Python script that uses all three approaches above to compute the standard deviation of a sequence of values.\n",
    "\n",
    "For this purpose, the file `part_A.py` contains the headers of the following two functions:"
   ]
  },
  {
   "cell_type": "code",
   "execution_count": 4,
   "metadata": {},
   "outputs": [],
   "source": [
    "def std_loops(x):\n",
    "    \"\"\"\n",
    "    Compute standard deviation of x using loops.\n",
    "\n",
    "    Parameters\n",
    "    ----------\n",
    "    x: Sequence of numbers\n",
    "\n",
    "    Returns\n",
    "    -------\n",
    "    sd : float\n",
    "        Standard deviation of the list of numbers.\n",
    "    \"\"\"\n",
    "\n",
    "def std_builtin(x):\n",
    "    \"\"\"\n",
    "    Compute standard deviation of x using the built-in functions sum()\n",
    "    and len().\n",
    "\n",
    "    Parameters\n",
    "    ----------\n",
    "    x: Sequence of numbers\n",
    "\n",
    "    Returns\n",
    "    -------\n",
    "    sd : float\n",
    "        Standard deviation of the list of numbers.\n",
    "    \"\"\""
   ]
  },
  {
   "cell_type": "markdown",
   "metadata": {},
   "source": [
    "Provide an implementation for each function, the first using loops and the second using `sum()` and `len()`.\n",
    "\n",
    "Write code to demonstrate that these two functions and `std()` from NumPy calculate the same standard deviations for the following list of numbers:\n",
    "```python\n",
    "num_lst = [1, 2, 3, 4, 5]\n",
    "```"
   ]
  },
  {
   "cell_type": "markdown",
   "metadata": {},
   "source": [
    "**Hint:** You can use the built-in `sqrt()` function from the math module to compute the square root in step (4) of the algorithm outlined above:\n",
    "```python\n",
    "from math import sqrt\n",
    "```"
   ]
  },
  {
   "cell_type": "markdown",
   "metadata": {},
   "source": [
    "## Solution"
   ]
  },
  {
   "cell_type": "code",
   "execution_count": 5,
   "metadata": {},
   "outputs": [
    {
     "name": "stdout",
     "output_type": "stream",
     "text": [
      "Std. dev. for the sequence: [1, 2, 3, 4, 5]\n",
      "  1. Loops:     1.41421356\n",
      "  2. Built-ins: 1.41421356\n",
      "  3. NumPy:     1.41421356\n"
     ]
    }
   ],
   "source": [
    "from math import sqrt \n",
    "import numpy as np\n",
    "\n",
    "def std_loops(x):\n",
    "    \"\"\"\n",
    "    Compute standard deviation of x using loops.\n",
    "\n",
    "    Parameters\n",
    "    ----------\n",
    "    x: Sequence of numbers\n",
    "\n",
    "    Returns\n",
    "    -------\n",
    "    sd : float\n",
    "        Standard deviation of the list of numbers.\n",
    "    \"\"\"\n",
    "\n",
    "    # Initialize counter variable\n",
    "    N = 0\n",
    "\n",
    "    # Compute mean\n",
    "    mean = 0.0\n",
    "    for xi in x:\n",
    "        mean += xi\n",
    "        N += 1\n",
    "    mean /= N\n",
    "\n",
    "    # Compute the mean of squares\n",
    "    S = 0.0\n",
    "    for xi in x:\n",
    "        S += xi**2.0\n",
    "    S /= N\n",
    "\n",
    "    # Compute variance\n",
    "    var = S - mean**2.0\n",
    "\n",
    "    # Compute standard deviation\n",
    "    sd = sqrt(var)\n",
    "\n",
    "    return sd\n",
    "\n",
    "def std_builtin(x):\n",
    "    \"\"\"\n",
    "    Compute standard deviation of x using the built-in functions sum()\n",
    "    and len().\n",
    "\n",
    "    Parameters\n",
    "    ----------\n",
    "    x: Sequence of numbers\n",
    "\n",
    "    Returns\n",
    "    -------\n",
    "    sd : float\n",
    "        Standard deviation of the list of numbers.\n",
    "    \"\"\"\n",
    "    \n",
    "    N = len(x)\n",
    "    # Compute mean\n",
    "    mean = sum(x) / N\n",
    "\n",
    "    # Compute the mean of squares\n",
    "    S = sum(xi**2.0 for xi in x) / N\n",
    "\n",
    "    # Compute variance\n",
    "    var = S - mean**2.0\n",
    "\n",
    "    # Compute standard deviation\n",
    "    sd = sqrt(var)\n",
    "\n",
    "    return sd\n",
    "\n",
    "\n",
    "if __name__ == '__main__':\n",
    "    \n",
    "    # List of 5 integers\n",
    "    num_lst = [1, 2, 3, 4, 5]\n",
    "    \n",
    "    # Calculate standard deviation\n",
    "    sd1 = std_loops(num_lst)\n",
    "    sd2 = std_builtin(num_lst)\n",
    "    sd3 = np.std(num_lst)\n",
    "\n",
    "    # Print results using 8 decimal digits\n",
    "    print(f'Std. dev. for the sequence: {num_lst}')\n",
    "    print(f'  1. Loops:     {sd1:.8f}')\n",
    "    print(f'  2. Built-ins: {sd2:.8f}')\n",
    "    print(f'  3. NumPy:     {sd3:.8f}')"
   ]
  },
  {
   "cell_type": "markdown",
   "metadata": {},
   "source": [
    "# Part B\n",
    "\n",
    "Your boss is not convinced that `std()` from NumPy can compute the standard deviation faster than the two other approaches. \n",
    "He therefore gives you a file containing randomly generated data, and he asks you to compare the run time of all three approaches.\n",
    "\n",
    "The file `data.csv` contains the following three columns:\n",
    "\n",
    " - Column 1: sequence of 100 numbers between 0 and 1\n",
    " - Column 2: sequence of 1,000 numbers between 0 and 1\n",
    " - Column 3: sequence of 10,000 numbers between 0 and 1\n",
    "\n",
    "This is a comma-separated text file where the values in each row are separated by a comma. \n",
    "He knows that you are not familiar with this file format, so he suggests that you look at \n",
    "[this link](https://www.w3schools.com/python/python_file_open.asp)\n",
    "to see how you can import the data in the file by using Python’s built-in `open()` function.\n",
    "\n",
    "Use the empty notebook `part_B.ipynb` in this repository to complete the following tasks:\n",
    "\n",
    "1. Import the file and store each column of values in a list.\n",
    "2. Compute the standard deviation of all three sequences using the three different approaches\n",
    "3. Record the run-time of each approach for each sequence.\n",
    "   Recall that you can use the magic function `%timeit` to time the execution of a function in a Jupyter notebook.\n",
    "\n",
    "Summarize your conclusion for your boss. Which approach computes the standard deviation the fastest? \n",
    "Is one approach always faster or does it depend on the length of the sequence? Try to explain your findings.\n"
   ]
  },
  {
   "cell_type": "markdown",
   "metadata": {},
   "source": [
    "## Solution\n",
    "\n",
    "### Read in the data file\n",
    "\n",
    "A function to read in all three columns from `data.csv` can be implemented as follows:"
   ]
  },
  {
   "cell_type": "code",
   "execution_count": 24,
   "metadata": {},
   "outputs": [],
   "source": [
    "def read_data(path):\n",
    "    \"\"\"\n",
    "    Read in data file from given path.\n",
    "\n",
    "    Parameters\n",
    "    ----------\n",
    "    path : str\n",
    "        Path or file name of data file to read\n",
    "\n",
    "    Returns\n",
    "    -------\n",
    "    x1 : list\n",
    "        Non-missing values in column 1\n",
    "    x2 : list\n",
    "        Non-missing values in column 2\n",
    "    x3 : list\n",
    "        Non-missing values in column 3\n",
    "    \"\"\"\n",
    "\n",
    "    file = open('data.csv', 'rt')\n",
    "\n",
    "    # Initialize lists to store numbers\n",
    "    x1 = []\n",
    "    x2 = []\n",
    "    x3 = []\n",
    "\n",
    "    # Loop over all lines in file\n",
    "    for line in file:\n",
    "\n",
    "        # Convert line to list\n",
    "        line_lst = line.split(',') \n",
    "\n",
    "        # Append numbers to lists if not missing\n",
    "        if line_lst[0] != '': x1.append(float(line_lst[0]))\n",
    "        if line_lst[1] != '': x2.append(float(line_lst[1]))\n",
    "        if line_lst[2] != '': x3.append(float(line_lst[2]))\n",
    "\n",
    "    file.close()\n",
    "\n",
    "    return x1, x2, x3"
   ]
  },
  {
   "cell_type": "markdown",
   "metadata": {},
   "source": [
    "Alternatively, we could use NumPy's `genfromtxt()` to read in the data:"
   ]
  },
  {
   "cell_type": "code",
   "execution_count": 25,
   "metadata": {},
   "outputs": [],
   "source": [
    "import numpy as np\n",
    "\n",
    "def read_data_numpy(path):\n",
    "    \"\"\"\n",
    "    Read in data file from given path using genfromtxt().\n",
    "\n",
    "    Parameters\n",
    "    ----------\n",
    "    path : str\n",
    "        Path or file name of data file to read\n",
    "\n",
    "    Returns\n",
    "    -------\n",
    "    x1 : array\n",
    "        Non-missing values in column 1\n",
    "    x2 : array\n",
    "        Non-missing values in column 2\n",
    "    x3 : array\n",
    "        Non-missing values in column 3\n",
    "    \"\"\"\n",
    "\n",
    "    data = np.genfromtxt(path, delimiter=',', filling_values=np.nan)\n",
    "\n",
    "    # Extract non-missing values in each column\n",
    "    x1 = data[~np.isnan(data[:,0]), 0]\n",
    "    x2 = data[~np.isnan(data[:,1]), 1]\n",
    "    x3 = data[~np.isnan(data[:,2]), 2]\n",
    "\n",
    "    return x1, x2, x3"
   ]
  },
  {
   "cell_type": "markdown",
   "metadata": {},
   "source": [
    "### Compute standard deviations"
   ]
  },
  {
   "cell_type": "code",
   "execution_count": 7,
   "metadata": {},
   "outputs": [],
   "source": [
    "def display_sd(data):\n",
    "    \n",
    "    # Compute standard deviation using all three implementations\n",
    "    sd1 = std_loops(data)\n",
    "    sd2 = std_builtin(data)\n",
    "    sd3 = np.std(data)\n",
    "    \n",
    "    print(f'  Loops:     {sd1:.8f}')\n",
    "    print(f'  Built-ins: {sd2:.8f}')\n",
    "    print(f'  NumPy:     {sd3:.8f}')"
   ]
  },
  {
   "cell_type": "code",
   "execution_count": 26,
   "metadata": {},
   "outputs": [
    {
     "name": "stdout",
     "output_type": "stream",
     "text": [
      "Standard deviation of column 1 (100 numbers):\n",
      "  Loops:     0.28237211\n",
      "  Built-ins: 0.28237211\n",
      "  NumPy:     0.28237211\n",
      "\n",
      "Standard deviation of column 2 (1000 numbers):\n",
      "  Loops:     0.28467443\n",
      "  Built-ins: 0.28467443\n",
      "  NumPy:     0.28467443\n",
      "\n",
      "Standard deviation of column 3 (10000 numbers):\n",
      "  Loops:     0.28540453\n",
      "  Built-ins: 0.28540453\n",
      "  NumPy:     0.28540453\n",
      "\n"
     ]
    }
   ],
   "source": [
    "x1, x2, x3 = read_data('data.csv')\n",
    "\n",
    "for i, x in enumerate([x1, x2, x3]):\n",
    "    print(f'Standard deviation of column {i+1} ({len(x)} numbers):')\n",
    "    display_sd(x)\n",
    "    print()"
   ]
  },
  {
   "cell_type": "markdown",
   "metadata": {},
   "source": [
    "### Compare run time"
   ]
  },
  {
   "cell_type": "markdown",
   "metadata": {},
   "source": [
    "#### 100 numbers"
   ]
  },
  {
   "cell_type": "code",
   "execution_count": 9,
   "metadata": {},
   "outputs": [
    {
     "name": "stdout",
     "output_type": "stream",
     "text": [
      "7.26 µs ± 29.4 ns per loop (mean ± std. dev. of 7 runs, 100,000 loops each)\n"
     ]
    }
   ],
   "source": [
    "%timeit std_loops(x1)"
   ]
  },
  {
   "cell_type": "code",
   "execution_count": 10,
   "metadata": {},
   "outputs": [
    {
     "name": "stdout",
     "output_type": "stream",
     "text": [
      "6.45 µs ± 9.05 ns per loop (mean ± std. dev. of 7 runs, 100,000 loops each)\n"
     ]
    }
   ],
   "source": [
    "%timeit std_builtin(x1)"
   ]
  },
  {
   "cell_type": "code",
   "execution_count": 11,
   "metadata": {},
   "outputs": [
    {
     "name": "stdout",
     "output_type": "stream",
     "text": [
      "17 µs ± 760 ns per loop (mean ± std. dev. of 7 runs, 100,000 loops each)\n"
     ]
    }
   ],
   "source": [
    "%timeit np.std(x1)"
   ]
  },
  {
   "cell_type": "markdown",
   "metadata": {},
   "source": [
    "#### 1,000 numbers"
   ]
  },
  {
   "cell_type": "code",
   "execution_count": 12,
   "metadata": {},
   "outputs": [
    {
     "name": "stdout",
     "output_type": "stream",
     "text": [
      "77.2 µs ± 1.71 µs per loop (mean ± std. dev. of 7 runs, 10,000 loops each)\n"
     ]
    }
   ],
   "source": [
    "%timeit std_loops(x2)"
   ]
  },
  {
   "cell_type": "code",
   "execution_count": 13,
   "metadata": {},
   "outputs": [
    {
     "name": "stdout",
     "output_type": "stream",
     "text": [
      "61.7 µs ± 465 ns per loop (mean ± std. dev. of 7 runs, 10,000 loops each)\n"
     ]
    }
   ],
   "source": [
    "%timeit std_builtin(x2)"
   ]
  },
  {
   "cell_type": "code",
   "execution_count": 14,
   "metadata": {},
   "outputs": [
    {
     "name": "stdout",
     "output_type": "stream",
     "text": [
      "47.8 µs ± 170 ns per loop (mean ± std. dev. of 7 runs, 10,000 loops each)\n"
     ]
    }
   ],
   "source": [
    "%timeit np.std(x2)"
   ]
  },
  {
   "cell_type": "markdown",
   "metadata": {},
   "source": [
    "#### 10,000 numbers"
   ]
  },
  {
   "cell_type": "code",
   "execution_count": 15,
   "metadata": {},
   "outputs": [
    {
     "name": "stdout",
     "output_type": "stream",
     "text": [
      "813 µs ± 9.81 µs per loop (mean ± std. dev. of 7 runs, 1,000 loops each)\n"
     ]
    }
   ],
   "source": [
    "%timeit std_loops(x3)"
   ]
  },
  {
   "cell_type": "code",
   "execution_count": 16,
   "metadata": {},
   "outputs": [
    {
     "name": "stdout",
     "output_type": "stream",
     "text": [
      "600 µs ± 2.08 µs per loop (mean ± std. dev. of 7 runs, 1,000 loops each)\n"
     ]
    }
   ],
   "source": [
    "%timeit std_builtin(x3)"
   ]
  },
  {
   "cell_type": "code",
   "execution_count": 17,
   "metadata": {},
   "outputs": [
    {
     "name": "stdout",
     "output_type": "stream",
     "text": [
      "352 µs ± 1.61 µs per loop (mean ± std. dev. of 7 runs, 1,000 loops each)\n"
     ]
    }
   ],
   "source": [
    "%timeit np.std(x3)"
   ]
  },
  {
   "cell_type": "markdown",
   "metadata": {},
   "source": [
    "### Conclusion\n",
    "\n",
    "**Note**: Using `std` from `numpy` is even faster if the sequence of numbers are arrays instead of lists."
   ]
  },
  {
   "cell_type": "code",
   "execution_count": 18,
   "metadata": {},
   "outputs": [],
   "source": [
    "x_array = np.array(x3)"
   ]
  },
  {
   "cell_type": "code",
   "execution_count": 19,
   "metadata": {},
   "outputs": [
    {
     "name": "stdout",
     "output_type": "stream",
     "text": [
      "2.33 ms ± 24.2 µs per loop (mean ± std. dev. of 7 runs, 100 loops each)\n"
     ]
    }
   ],
   "source": [
    "%timeit std_loops(x_array)"
   ]
  },
  {
   "cell_type": "code",
   "execution_count": 20,
   "metadata": {},
   "outputs": [
    {
     "name": "stdout",
     "output_type": "stream",
     "text": [
      "2.34 ms ± 22.2 µs per loop (mean ± std. dev. of 7 runs, 100 loops each)\n"
     ]
    }
   ],
   "source": [
    "%timeit std_loops(x_array)"
   ]
  },
  {
   "cell_type": "code",
   "execution_count": 21,
   "metadata": {},
   "outputs": [
    {
     "name": "stdout",
     "output_type": "stream",
     "text": [
      "20.1 µs ± 64.4 ns per loop (mean ± std. dev. of 7 runs, 10,000 loops each)\n"
     ]
    }
   ],
   "source": [
    "%timeit np.std(x_array)"
   ]
  },
  {
   "cell_type": "markdown",
   "metadata": {},
   "source": [
    "# Assessment\n",
    "\n",
    "The requirements to pass the assignment are as follows:\n",
    "\n",
    " - You have submitted within the deadline.\n",
    " - Your submission is in a GitHub repository. All commits in this repository must be prior to the deadline. The repository\n",
    "   must be publicly accessible (set visibility to public in the repository settings)\n",
    "   ![GitHub repo visibility](./gh-visibility.png)\n",
    " - The repository contains a Python script that attempts to calculate the standard deviation using all three approaches using the list of numbers (part A).\n",
    " - You must complete a peer-review of the assignments of two other students on Canvas (deadline: Friday, October 11, 2024 at 14:00).\n",
    "\n",
    "In addition, the following are recommended, but not required to pass the assignment:\n",
    "\n",
    " - You create and use the Anaconda environment defined in `environment.yml`.\n",
    " - Your Python script uses functions to solve part A of the assignment.\n",
    " - Your code is well documented.\n",
    " - Your repository contains a Jupyter notebook that solves part B of the assignment.\n",
    " - You use git to manage your repository."
   ]
  }
 ],
 "metadata": {
  "kernelspec": {
   "display_name": "Python 3.10.4 ('py3-default')",
   "language": "python",
   "name": "python3"
  },
  "language_info": {
   "codemirror_mode": {
    "name": "ipython",
    "version": 3
   },
   "file_extension": ".py",
   "mimetype": "text/x-python",
   "name": "python",
   "nbconvert_exporter": "python",
   "pygments_lexer": "ipython3",
   "version": "3.11.9"
  },
  "orig_nbformat": 4,
  "vscode": {
   "interpreter": {
    "hash": "89692ee4bd8d7a7842eb7c7050f10ae8c4113955275de7625334d5364ea86119"
   }
  }
 },
 "nbformat": 4,
 "nbformat_minor": 2
}
